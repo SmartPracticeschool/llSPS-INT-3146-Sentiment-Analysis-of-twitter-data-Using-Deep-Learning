{
 "cells": [
  {
   "cell_type": "code",
   "execution_count": 1,
   "metadata": {},
   "outputs": [],
   "source": [
    "import numpy as np\n",
    "import csv\n",
    "import matplotlib.pyplot as plt"
   ]
  },
  {
   "cell_type": "code",
   "execution_count": 2,
   "metadata": {},
   "outputs": [],
   "source": [
    "import pandas as pd\n",
    "dataset=pd.read_csv('train.csv',encoding = \"ISO-8859-1\")"
   ]
  },
  {
   "cell_type": "code",
   "execution_count": 3,
   "metadata": {
    "scrolled": true
   },
   "outputs": [
    {
     "data": {
      "text/html": [
       "<div>\n",
       "<style scoped>\n",
       "    .dataframe tbody tr th:only-of-type {\n",
       "        vertical-align: middle;\n",
       "    }\n",
       "\n",
       "    .dataframe tbody tr th {\n",
       "        vertical-align: top;\n",
       "    }\n",
       "\n",
       "    .dataframe thead th {\n",
       "        text-align: right;\n",
       "    }\n",
       "</style>\n",
       "<table border=\"1\" class=\"dataframe\">\n",
       "  <thead>\n",
       "    <tr style=\"text-align: right;\">\n",
       "      <th></th>\n",
       "      <th>ItemID</th>\n",
       "      <th>Sentiment</th>\n",
       "      <th>SentimentText</th>\n",
       "    </tr>\n",
       "  </thead>\n",
       "  <tbody>\n",
       "    <tr>\n",
       "      <th>0</th>\n",
       "      <td>1</td>\n",
       "      <td>0</td>\n",
       "      <td>is so sad for my APL friend.............</td>\n",
       "    </tr>\n",
       "    <tr>\n",
       "      <th>1</th>\n",
       "      <td>2</td>\n",
       "      <td>0</td>\n",
       "      <td>I missed the New Moon trailer...</td>\n",
       "    </tr>\n",
       "    <tr>\n",
       "      <th>2</th>\n",
       "      <td>3</td>\n",
       "      <td>1</td>\n",
       "      <td>omg its already 7:30 :O</td>\n",
       "    </tr>\n",
       "    <tr>\n",
       "      <th>3</th>\n",
       "      <td>4</td>\n",
       "      <td>0</td>\n",
       "      <td>.. Omgaga. Im soooim gunna CRy. I've been at t...</td>\n",
       "    </tr>\n",
       "    <tr>\n",
       "      <th>4</th>\n",
       "      <td>5</td>\n",
       "      <td>0</td>\n",
       "      <td>i think mi bf is cheating on me!!! T_T</td>\n",
       "    </tr>\n",
       "    <tr>\n",
       "      <th>5</th>\n",
       "      <td>6</td>\n",
       "      <td>0</td>\n",
       "      <td>or i just worry too much?</td>\n",
       "    </tr>\n",
       "    <tr>\n",
       "      <th>6</th>\n",
       "      <td>7</td>\n",
       "      <td>1</td>\n",
       "      <td>Juuuuuuuuuuuuuuuuussssst Chillin!!</td>\n",
       "    </tr>\n",
       "    <tr>\n",
       "      <th>7</th>\n",
       "      <td>8</td>\n",
       "      <td>0</td>\n",
       "      <td>Sunny AgainWork Tomorrow:-| TV Tonight</td>\n",
       "    </tr>\n",
       "    <tr>\n",
       "      <th>8</th>\n",
       "      <td>9</td>\n",
       "      <td>1</td>\n",
       "      <td>handed in my uniform today . i miss you already</td>\n",
       "    </tr>\n",
       "    <tr>\n",
       "      <th>9</th>\n",
       "      <td>10</td>\n",
       "      <td>1</td>\n",
       "      <td>hmmmm.... i wonder how she my number @-)</td>\n",
       "    </tr>\n",
       "    <tr>\n",
       "      <th>10</th>\n",
       "      <td>11</td>\n",
       "      <td>0</td>\n",
       "      <td>I must think about positive..</td>\n",
       "    </tr>\n",
       "    <tr>\n",
       "      <th>11</th>\n",
       "      <td>12</td>\n",
       "      <td>1</td>\n",
       "      <td>thanks to all the haters up in my face all day...</td>\n",
       "    </tr>\n",
       "    <tr>\n",
       "      <th>12</th>\n",
       "      <td>13</td>\n",
       "      <td>0</td>\n",
       "      <td>this weekend has sucked so far</td>\n",
       "    </tr>\n",
       "    <tr>\n",
       "      <th>13</th>\n",
       "      <td>14</td>\n",
       "      <td>0</td>\n",
       "      <td>jb isnt showing in australia any more!</td>\n",
       "    </tr>\n",
       "    <tr>\n",
       "      <th>14</th>\n",
       "      <td>15</td>\n",
       "      <td>0</td>\n",
       "      <td>ok thats it you win.</td>\n",
       "    </tr>\n",
       "    <tr>\n",
       "      <th>15</th>\n",
       "      <td>16</td>\n",
       "      <td>0</td>\n",
       "      <td>&amp;lt;-------- This is the way i feel right now...</td>\n",
       "    </tr>\n",
       "    <tr>\n",
       "      <th>16</th>\n",
       "      <td>17</td>\n",
       "      <td>0</td>\n",
       "      <td>awhhe man.... I'm completely useless rt now. F...</td>\n",
       "    </tr>\n",
       "    <tr>\n",
       "      <th>17</th>\n",
       "      <td>18</td>\n",
       "      <td>1</td>\n",
       "      <td>Feeling strangely fine. Now I'm gonna go liste...</td>\n",
       "    </tr>\n",
       "    <tr>\n",
       "      <th>18</th>\n",
       "      <td>19</td>\n",
       "      <td>0</td>\n",
       "      <td>HUGE roll of thunder just now...SO scary!!!!</td>\n",
       "    </tr>\n",
       "    <tr>\n",
       "      <th>19</th>\n",
       "      <td>20</td>\n",
       "      <td>0</td>\n",
       "      <td>I just cut my beard off. It's only been growin...</td>\n",
       "    </tr>\n",
       "  </tbody>\n",
       "</table>\n",
       "</div>"
      ],
      "text/plain": [
       "    ItemID  Sentiment                                      SentimentText\n",
       "0        1          0           is so sad for my APL friend.............\n",
       "1        2          0                   I missed the New Moon trailer...\n",
       "2        3          1                            omg its already 7:30 :O\n",
       "3        4          0  .. Omgaga. Im soooim gunna CRy. I've been at t...\n",
       "4        5          0             i think mi bf is cheating on me!!! T_T\n",
       "5        6          0                          or i just worry too much?\n",
       "6        7          1                 Juuuuuuuuuuuuuuuuussssst Chillin!!\n",
       "7        8          0             Sunny AgainWork Tomorrow:-| TV Tonight\n",
       "8        9          1    handed in my uniform today . i miss you already\n",
       "9       10          1           hmmmm.... i wonder how she my number @-)\n",
       "10      11          0                      I must think about positive..\n",
       "11      12          1  thanks to all the haters up in my face all day...\n",
       "12      13          0                     this weekend has sucked so far\n",
       "13      14          0             jb isnt showing in australia any more!\n",
       "14      15          0                               ok thats it you win.\n",
       "15      16          0   &lt;-------- This is the way i feel right now...\n",
       "16      17          0  awhhe man.... I'm completely useless rt now. F...\n",
       "17      18          1  Feeling strangely fine. Now I'm gonna go liste...\n",
       "18      19          0       HUGE roll of thunder just now...SO scary!!!!\n",
       "19      20          0  I just cut my beard off. It's only been growin..."
      ]
     },
     "execution_count": 3,
     "metadata": {},
     "output_type": "execute_result"
    }
   ],
   "source": [
    "dataset.head(20)"
   ]
  },
  {
   "cell_type": "markdown",
   "metadata": {},
   "source": [
    "# Text Cleaning or Pre-processing"
   ]
  },
  {
   "cell_type": "code",
   "execution_count": 4,
   "metadata": {},
   "outputs": [
    {
     "name": "stderr",
     "output_type": "stream",
     "text": [
      "[nltk_data] Downloading package stopwords to C:\\Users\\Sunny's\n",
      "[nltk_data]     pc\\AppData\\Roaming\\nltk_data...\n",
      "[nltk_data]   Package stopwords is already up-to-date!\n"
     ]
    }
   ],
   "source": [
    "import re\n",
    "import nltk\n",
    "nltk.download('stopwords')\n",
    "from nltk.corpus import stopwords"
   ]
  },
  {
   "cell_type": "code",
   "execution_count": 5,
   "metadata": {},
   "outputs": [],
   "source": [
    "from nltk.stem.porter import PorterStemmer\n",
    "ps=PorterStemmer()\n",
    "data=[]"
   ]
  },
  {
   "cell_type": "code",
   "execution_count": 6,
   "metadata": {},
   "outputs": [],
   "source": [
    "for i in range(0,99989):\n",
    "    review=dataset[\"SentimentText\"][i]\n",
    "    review=re.sub('[^a-zA-Z]',' ',review)\n",
    "    review=review.lower()\n",
    "    review=review.split()\n",
    "    review=[ps.stem(word) for word in review if not word in set(stopwords.words('english'))]\n",
    "    review=' '.join(review)\n",
    "    data.append(review)"
   ]
  },
  {
   "cell_type": "markdown",
   "metadata": {},
   "source": [
    "# 1. Bag of Words"
   ]
  },
  {
   "cell_type": "code",
   "execution_count": 7,
   "metadata": {},
   "outputs": [],
   "source": [
    "from sklearn.feature_extraction.text import CountVectorizer"
   ]
  },
  {
   "cell_type": "code",
   "execution_count": 8,
   "metadata": {},
   "outputs": [],
   "source": [
    "cv=CountVectorizer(max_features=1500)\n",
    "X=cv.fit_transform(data).toarray()"
   ]
  },
  {
   "cell_type": "markdown",
   "metadata": {},
   "source": [
    "Creating Dependent variable"
   ]
  },
  {
   "cell_type": "code",
   "execution_count": 9,
   "metadata": {},
   "outputs": [],
   "source": [
    "y=dataset.iloc[:,1].values\n"
   ]
  },
  {
   "cell_type": "markdown",
   "metadata": {},
   "source": [
    "# 2.Splitting Data into Training and Test set"
   ]
  },
  {
   "cell_type": "code",
   "execution_count": 10,
   "metadata": {},
   "outputs": [],
   "source": [
    "from sklearn.model_selection import train_test_split\n",
    "X_train, X_test, y_train, y_test=train_test_split(X,y,test_size=0.20,random_state=0)"
   ]
  },
  {
   "cell_type": "markdown",
   "metadata": {},
   "source": [
    "#            NLP\n",
    "# 3.Importing the libraries\n"
   ]
  },
  {
   "cell_type": "code",
   "execution_count": 11,
   "metadata": {},
   "outputs": [],
   "source": [
    "import keras\n",
    "from keras.models import Sequential\n",
    "from keras.layers import Dense"
   ]
  },
  {
   "cell_type": "markdown",
   "metadata": {},
   "source": [
    "# 4. Initializing the model"
   ]
  },
  {
   "cell_type": "markdown",
   "metadata": {},
   "source": [
    "Keras has 2 ways to define a neural network:\n",
    " Sequential\n",
    " Function API\n",
    "The Sequential class is used to define a linear initializations of network layers\n",
    "which then, collectively, constitute a model. In our example below, we will use\n",
    "the Sequential constructor to create a model, which will then have layers added\n",
    "to it using the add() method."
   ]
  },
  {
   "cell_type": "code",
   "execution_count": 12,
   "metadata": {},
   "outputs": [],
   "source": [
    "model=Sequential()\n"
   ]
  },
  {
   "cell_type": "markdown",
   "metadata": {},
   "source": [
    "# 5.Adding Input Layer\n"
   ]
  },
  {
   "cell_type": "markdown",
   "metadata": {},
   "source": [
    "This step is to add a dense layer (input layer) where you will be specifying the\n",
    "number of inputs to the neural network, activation function and weights\n",
    "initializer and number of connection to the hidden layer as the arguments. We\n",
    "use add() method to add dense layers"
   ]
  },
  {
   "cell_type": "code",
   "execution_count": 13,
   "metadata": {},
   "outputs": [],
   "source": [
    "model.add(Dense(units=20, activation='relu', input_dim=1500))"
   ]
  },
  {
   "cell_type": "markdown",
   "metadata": {},
   "source": [
    "# 6. Adding Hidden Layer"
   ]
  },
  {
   "cell_type": "markdown",
   "metadata": {},
   "source": [
    "This step is to add a dense layer (Hidden layer) where you will be specifying\n",
    "the number neurons to the next layer, activation function and weight initializer\n",
    "as the arguments. We use add() method to add dense layers. In this layer no\n",
    "need of mentioning input dimensions as we have mentions them in the above\n",
    "layer itself"
   ]
  },
  {
   "cell_type": "code",
   "execution_count": 14,
   "metadata": {},
   "outputs": [],
   "source": [
    "model.add(Dense(units=100,activation='relu'))"
   ]
  },
  {
   "cell_type": "markdown",
   "metadata": {},
   "source": [
    "# 7. Adding an Output Layer"
   ]
  },
  {
   "cell_type": "markdown",
   "metadata": {},
   "source": [
    "This step is to add a dense layer (output layer) where you will be specifying\n",
    "the number of classes your dependent variable has, activation function and\n",
    "weight initializer as the arguments. We use add () method to add dense layers.\n",
    "In this layer no need of mentioning input dimensions as we have mentions them\n",
    "in the above layer itself"
   ]
  },
  {
   "cell_type": "code",
   "execution_count": 15,
   "metadata": {},
   "outputs": [],
   "source": [
    "model.add(Dense(units=1,activation='sigmoid'))"
   ]
  },
  {
   "cell_type": "markdown",
   "metadata": {},
   "source": [
    "# 8. Configuring the learning process"
   ]
  },
  {
   "cell_type": "markdown",
   "metadata": {},
   "source": [
    "With both the training data defined and model defined, it's time configure the\n",
    "learning process. This is accomplished with a call to the compile() method of\n",
    "the Sequential model class. Compilation requires 3 arguments: an optimizer, a\n",
    "loss function, and a list of metrics.\n"
   ]
  },
  {
   "cell_type": "code",
   "execution_count": 16,
   "metadata": {},
   "outputs": [],
   "source": [
    "model.compile(optimizer='adam',loss='binary_crossentropy',metrics=['accuracy'])\n"
   ]
  },
  {
   "cell_type": "markdown",
   "metadata": {},
   "source": [
    " ## 9.Training the model"
   ]
  },
  {
   "cell_type": "markdown",
   "metadata": {},
   "source": [
    "At this point we have training data and a fully configured neural network to\n",
    "train with said data. All that is left is to pass the data to the model for the\n",
    "training process to commence, a process which is completed by iterating on the\n",
    "training data. Training begins by calling the fit() method. The arguments are\n",
    "batch size as you are using “adam” (bath gradient descent and epochs: no: of\n",
    "times the model should get trained"
   ]
  },
  {
   "cell_type": "code",
   "execution_count": 17,
   "metadata": {
    "scrolled": true
   },
   "outputs": [
    {
     "name": "stdout",
     "output_type": "stream",
     "text": [
      "Epoch 1/50\n",
      "2500/2500 [==============================] - 4s 1ms/step - loss: 0.5427 - accuracy: 0.7200\n",
      "Epoch 2/50\n",
      "2500/2500 [==============================] - 4s 1ms/step - loss: 0.5030 - accuracy: 0.7487\n",
      "Epoch 3/50\n",
      "2500/2500 [==============================] - 3s 1ms/step - loss: 0.4831 - accuracy: 0.7628\n",
      "Epoch 4/50\n",
      "2500/2500 [==============================] - 3s 1ms/step - loss: 0.4615 - accuracy: 0.7773\n",
      "Epoch 5/50\n",
      "2500/2500 [==============================] - 3s 1ms/step - loss: 0.4395 - accuracy: 0.7903\n",
      "Epoch 6/50\n",
      "2500/2500 [==============================] - 3s 1ms/step - loss: 0.4180 - accuracy: 0.8037\n",
      "Epoch 7/50\n",
      "2500/2500 [==============================] - 3s 1ms/step - loss: 0.3977 - accuracy: 0.8159\n",
      "Epoch 8/50\n",
      "2500/2500 [==============================] - 3s 1ms/step - loss: 0.3798 - accuracy: 0.8251\n",
      "Epoch 9/50\n",
      "2500/2500 [==============================] - 3s 1ms/step - loss: 0.3644 - accuracy: 0.8334\n",
      "Epoch 10/50\n",
      "2500/2500 [==============================] - 3s 1ms/step - loss: 0.3507 - accuracy: 0.8411\n",
      "Epoch 11/50\n",
      "2500/2500 [==============================] - 3s 1ms/step - loss: 0.3385 - accuracy: 0.8457\n",
      "Epoch 12/50\n",
      "2500/2500 [==============================] - 3s 1ms/step - loss: 0.3283 - accuracy: 0.8511\n",
      "Epoch 13/50\n",
      "2500/2500 [==============================] - 3s 1ms/step - loss: 0.3175 - accuracy: 0.8563\n",
      "Epoch 14/50\n",
      "2500/2500 [==============================] - 3s 1ms/step - loss: 0.3077 - accuracy: 0.8621\n",
      "Epoch 15/50\n",
      "2500/2500 [==============================] - 3s 1ms/step - loss: 0.3001 - accuracy: 0.8640\n",
      "Epoch 16/50\n",
      "2500/2500 [==============================] - 3s 1ms/step - loss: 0.2912 - accuracy: 0.8694\n",
      "Epoch 17/50\n",
      "2500/2500 [==============================] - 3s 1ms/step - loss: 0.2842 - accuracy: 0.8734\n",
      "Epoch 18/50\n",
      "2500/2500 [==============================] - 3s 1ms/step - loss: 0.2770 - accuracy: 0.8758\n",
      "Epoch 19/50\n",
      "2500/2500 [==============================] - 3s 1ms/step - loss: 0.2719 - accuracy: 0.8782\n",
      "Epoch 20/50\n",
      "2500/2500 [==============================] - 3s 1ms/step - loss: 0.2642 - accuracy: 0.8818\n",
      "Epoch 21/50\n",
      "2500/2500 [==============================] - 3s 1ms/step - loss: 0.2597 - accuracy: 0.8850\n",
      "Epoch 22/50\n",
      "2500/2500 [==============================] - 3s 1ms/step - loss: 0.2547 - accuracy: 0.8868\n",
      "Epoch 23/50\n",
      "2500/2500 [==============================] - 3s 1ms/step - loss: 0.2488 - accuracy: 0.8897\n",
      "Epoch 24/50\n",
      "2500/2500 [==============================] - 3s 1ms/step - loss: 0.2448 - accuracy: 0.8902\n",
      "Epoch 25/50\n",
      "2500/2500 [==============================] - 3s 1ms/step - loss: 0.2408 - accuracy: 0.8928\n",
      "Epoch 26/50\n",
      "2500/2500 [==============================] - 3s 1ms/step - loss: 0.2357 - accuracy: 0.8952\n",
      "Epoch 27/50\n",
      "2500/2500 [==============================] - 3s 1ms/step - loss: 0.2321 - accuracy: 0.8957\n",
      "Epoch 28/50\n",
      "2500/2500 [==============================] - 3s 1ms/step - loss: 0.2278 - accuracy: 0.8990\n",
      "Epoch 29/50\n",
      "2500/2500 [==============================] - 3s 1ms/step - loss: 0.2240 - accuracy: 0.9009\n",
      "Epoch 30/50\n",
      "2500/2500 [==============================] - 3s 1ms/step - loss: 0.2215 - accuracy: 0.9014\n",
      "Epoch 31/50\n",
      "2500/2500 [==============================] - 3s 1ms/step - loss: 0.2184 - accuracy: 0.9035\n",
      "Epoch 32/50\n",
      "2500/2500 [==============================] - 3s 1ms/step - loss: 0.2151 - accuracy: 0.9050\n",
      "Epoch 33/50\n",
      "2500/2500 [==============================] - 3s 1ms/step - loss: 0.2111 - accuracy: 0.9066\n",
      "Epoch 34/50\n",
      "2500/2500 [==============================] - 3s 1ms/step - loss: 0.2094 - accuracy: 0.9084\n",
      "Epoch 35/50\n",
      "2500/2500 [==============================] - 4s 1ms/step - loss: 0.2068 - accuracy: 0.9087\n",
      "Epoch 36/50\n",
      "2500/2500 [==============================] - 4s 1ms/step - loss: 0.2028 - accuracy: 0.9107\n",
      "Epoch 37/50\n",
      "2500/2500 [==============================] - 3s 1ms/step - loss: 0.2009 - accuracy: 0.9119\n",
      "Epoch 38/50\n",
      "2500/2500 [==============================] - 4s 1ms/step - loss: 0.1985 - accuracy: 0.9126\n",
      "Epoch 39/50\n",
      "2500/2500 [==============================] - 4s 1ms/step - loss: 0.1973 - accuracy: 0.9125\n",
      "Epoch 40/50\n",
      "2500/2500 [==============================] - 4s 1ms/step - loss: 0.1948 - accuracy: 0.9146\n",
      "Epoch 41/50\n",
      "2500/2500 [==============================] - 4s 1ms/step - loss: 0.1921 - accuracy: 0.9157\n",
      "Epoch 42/50\n",
      "2500/2500 [==============================] - 4s 1ms/step - loss: 0.1902 - accuracy: 0.9162\n",
      "Epoch 43/50\n",
      "2500/2500 [==============================] - 4s 1ms/step - loss: 0.1884 - accuracy: 0.9169\n",
      "Epoch 44/50\n",
      "2500/2500 [==============================] - 4s 1ms/step - loss: 0.1871 - accuracy: 0.9180\n",
      "Epoch 45/50\n",
      "2500/2500 [==============================] - 4s 2ms/step - loss: 0.1847 - accuracy: 0.9186\n",
      "Epoch 46/50\n",
      "2500/2500 [==============================] - 4s 2ms/step - loss: 0.1832 - accuracy: 0.9196\n",
      "Epoch 47/50\n",
      "2500/2500 [==============================] - 4s 2ms/step - loss: 0.1810 - accuracy: 0.9207\n",
      "Epoch 48/50\n",
      "2500/2500 [==============================] - 4s 1ms/step - loss: 0.1795 - accuracy: 0.9213\n",
      "Epoch 49/50\n",
      "2500/2500 [==============================] - 4s 2ms/step - loss: 0.1787 - accuracy: 0.9215\n",
      "Epoch 50/50\n",
      "2500/2500 [==============================] - 4s 2ms/step - loss: 0.1773 - accuracy: 0.9233\n"
     ]
    },
    {
     "data": {
      "text/plain": [
       "<tensorflow.python.keras.callbacks.History at 0x1d944337b88>"
      ]
     },
     "execution_count": 17,
     "metadata": {},
     "output_type": "execute_result"
    }
   ],
   "source": [
    "model.fit(X_train,y_train,epochs=50,batch_size=32)"
   ]
  },
  {
   "cell_type": "markdown",
   "metadata": {},
   "source": [
    "## 10. Save The Model"
   ]
  },
  {
   "cell_type": "markdown",
   "metadata": {},
   "source": [
    "Model is to be saved for the future purpose. This saved model ac also be\n",
    "integrated with android application or web application in order to predict\n",
    "something"
   ]
  },
  {
   "cell_type": "code",
   "execution_count": 18,
   "metadata": {},
   "outputs": [],
   "source": [
    "model.save('Mymodel.h5')"
   ]
  },
  {
   "cell_type": "code",
   "execution_count": 19,
   "metadata": {},
   "outputs": [
    {
     "name": "stdout",
     "output_type": "stream",
     "text": [
      "it is a negative review\n"
     ]
    }
   ],
   "source": [
    "from keras.models import load_model\n",
    "import numpy as np\n",
    "import h5py\n",
    "import pickle\n",
    "\n",
    "\n",
    " \n",
    "file= h5py.File('Mymodel.h5', 'r')\n",
    "entered_input=\" bad  \"\n",
    "x_intent=cv.transform([entered_input])\n",
    "y_prediction=model.predict(x_intent)\n",
    "if(y_prediction> 0.5):\n",
    "    print(\"it is positive review\")\n",
    "else:\n",
    "    print(\"it is a negative review\")\n",
    "\n",
    "        "
   ]
  },
  {
   "cell_type": "code",
   "execution_count": 75,
   "metadata": {},
   "outputs": [],
   "source": []
  },
  {
   "cell_type": "code",
   "execution_count": null,
   "metadata": {},
   "outputs": [],
   "source": []
  }
 ],
 "metadata": {
  "celltoolbar": "Raw Cell Format",
  "kernelspec": {
   "display_name": "Python 3",
   "language": "python",
   "name": "python3"
  },
  "language_info": {
   "codemirror_mode": {
    "name": "ipython",
    "version": 3
   },
   "file_extension": ".py",
   "mimetype": "text/x-python",
   "name": "python",
   "nbconvert_exporter": "python",
   "pygments_lexer": "ipython3",
   "version": "3.7.6"
  }
 },
 "nbformat": 4,
 "nbformat_minor": 2
}
